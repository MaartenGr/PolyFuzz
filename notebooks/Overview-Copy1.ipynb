{
 "cells": [
  {
   "cell_type": "markdown",
   "metadata": {},
   "source": [
    "**to do**  \n",
    "* Nr_jobs for awesome cosine top"
   ]
  },
  {
   "cell_type": "code",
   "execution_count": 5,
   "metadata": {},
   "outputs": [
    {
     "name": "stdout",
     "output_type": "stream",
     "text": [
      "The autoreload extension is already loaded. To reload it, use:\n",
      "  %reload_ext autoreload\n"
     ]
    }
   ],
   "source": [
    "import json\n",
    "\n",
    "# Needed to load in custom package from upper dir\n",
    "# Not needed if you pip installed the package\n",
    "import sys\n",
    "sys.path.insert(1, '../')\n",
    "\n",
    "# Custom packages\n",
    "from polyfuzz.models import EditDistance, TFIDF, Embeddings, BaseMatcher\n",
    "# from polyfuzz.metrics import precision_recall_curve\n",
    "# from polyfuzz import PolyFuzz\n",
    "import polyfuzz as pf\n",
    "# Reload packages\n",
    "%load_ext autoreload\n",
    "%autoreload 2"
   ]
  },
  {
   "cell_type": "code",
   "execution_count": 2,
   "metadata": {},
   "outputs": [],
   "source": [
    "with open(\"../data/company_names.json\") as outfile:\n",
    "    company_names = json.load(outfile)\n",
    "\n",
    "with open(\"../data/movie_titles.json\") as outfile:\n",
    "    movie_titles = json.load(outfile)"
   ]
  },
  {
   "cell_type": "code",
   "execution_count": 3,
   "metadata": {},
   "outputs": [
    {
     "data": {
      "application/vnd.jupyter.widget-view+json": {
       "model_id": "26f6bc44873a40bc9e8cff28dcf8c68a",
       "version_major": 2,
       "version_minor": 0
      },
      "text/plain": [
       "HBox(children=(HTML(value='Downloading'), FloatProgress(value=0.0, max=625.0), HTML(value='')))"
      ]
     },
     "metadata": {},
     "output_type": "display_data"
    },
    {
     "name": "stdout",
     "output_type": "stream",
     "text": [
      "\n"
     ]
    },
    {
     "data": {
      "application/vnd.jupyter.widget-view+json": {
       "model_id": "b76de0a576ac4f79b658c331dd5787f4",
       "version_major": 2,
       "version_minor": 0
      },
      "text/plain": [
       "HBox(children=(HTML(value='Downloading'), FloatProgress(value=0.0, max=995526.0), HTML(value='')))"
      ]
     },
     "metadata": {},
     "output_type": "display_data"
    },
    {
     "name": "stdout",
     "output_type": "stream",
     "text": [
      "\n"
     ]
    },
    {
     "data": {
      "application/vnd.jupyter.widget-view+json": {
       "model_id": "e8030027e099442fb17546a17e495e07",
       "version_major": 2,
       "version_minor": 0
      },
      "text/plain": [
       "HBox(children=(HTML(value='Downloading'), FloatProgress(value=0.0, max=714314041.0), HTML(value='')))"
      ]
     },
     "metadata": {},
     "output_type": "display_data"
    },
    {
     "name": "stdout",
     "output_type": "stream",
     "text": [
      "\n"
     ]
    }
   ],
   "source": [
    "from flair.embeddings import FlairEmbeddings, TransformerWordEmbeddings, TransformerDocumentEmbeddings\n",
    "bert_embedding = TransformerWordEmbeddings('bert-base-multilingual-cased')"
   ]
  },
  {
   "cell_type": "code",
   "execution_count": 14,
   "metadata": {},
   "outputs": [
    {
     "name": "stderr",
     "output_type": "stream",
     "text": [
      "100%|██████████████████████████████████████████████████████████████████████████████████| 2/2 [00:00<00:00, 2009.73it/s]\n",
      "100%|████████████████████████████████████████████████████████████████████████████████████| 2/2 [00:00<00:00,  9.35it/s]\n",
      "100%|████████████████████████████████████████████████████████████████████████████████████| 2/2 [00:00<00:00, 10.78it/s]\n"
     ]
    }
   ],
   "source": [
    "from rapidfuzz import fuzz\n",
    "import numpy as np\n",
    "import pandas as pd\n",
    "\n",
    "\n",
    "class MyModel(BaseMatcher):\n",
    "    def match(self, from_list, to_list):\n",
    "        # Calculate distances\n",
    "        matches = [[fuzz.ratio(from_string, to_string) / 100 for to_string in to_list] for from_string in from_list]\n",
    "        \n",
    "        # Get best matches\n",
    "        mappings = [to_list[index] for index in np.argmax(matches, axis=1)]\n",
    "        scores = np.max(matches, axis=1)\n",
    "        \n",
    "        # Prepare dataframe\n",
    "        matches = pd.DataFrame({'From': from_list,'To': mappings, 'Similarity': scores})\n",
    "        return matches\n",
    "\n",
    "models = [\n",
    "          TFIDF(n_gram_range=(3, 3), min_similarity=0, model_id=\"TF-IDF-Sklearn\"),\n",
    "          TFIDF(n_gram_range=(3, 6), min_similarity=0),\n",
    "          EditDistance(n_jobs=-1),\n",
    "          Embeddings([bert_embedding], min_similarity=0),\n",
    "          MyModel()\n",
    "         ]\n",
    "\n",
    "\n",
    "# pm = PolyFuzz(models, movie_titles[\"Netflix\"], movie_titles[\"Netflix\"]).match()\n",
    "# model = pf.PolyFuzz(models, movie_titles[\"Netflix\"][:1000], movie_titles[\"IMDB\"][:1000]).match()\n",
    "# pm = PolyMatch(models, company_names[:5_000], company_names[:5_000]).match()\n",
    "model = pf.PolyFuzz(models).match(from_list = [\"string_one\", \"string_two\"],\n",
    "                                  to_list = [\"string_three\", \"string_four\"])\n",
    "\n",
    "# pm = PolyFuzz(\"TF-IDF\", movie_titles[\"Netflix\"], movie_titles[\"Netflix\"]).match()\n",
    "# pm = PolyMatch(\"EditDistance\", movie_titles[\"Netflix\"], movie_titles[\"Netflix\"]).match()\n",
    "# pm = PolyMatch(\"Embeddings\", movie_titles[\"Netflix\"], movie_titles[\"Netflix\"]).match()"
   ]
  },
  {
   "cell_type": "code",
   "execution_count": 15,
   "metadata": {},
   "outputs": [
    {
     "name": "stderr",
     "output_type": "stream",
     "text": [
      "C:\\Users\\Maarten\\AppData\\Roaming\\Python\\Python37\\site-packages\\numpy\\core\\fromnumeric.py:3373: RuntimeWarning: Mean of empty slice.\n",
      "  out=out, **kwargs)\n",
      "C:\\Users\\Maarten\\AppData\\Roaming\\Python\\Python37\\site-packages\\numpy\\core\\_methods.py:170: RuntimeWarning: invalid value encountered in double_scalars\n",
      "  ret = ret.dtype.type(ret / rcount)\n",
      "c:\\programdata\\miniconda3\\lib\\site-packages\\seaborn\\distributions.py:305: UserWarning: Dataset has 0 variance; skipping density estimate.\n",
      "  warnings.warn(msg, UserWarning)\n",
      "c:\\programdata\\miniconda3\\lib\\site-packages\\seaborn\\distributions.py:305: UserWarning: Dataset has 0 variance; skipping density estimate.\n",
      "  warnings.warn(msg, UserWarning)\n"
     ]
    },
    {
     "data": {
      "image/png": "[encoded data removed]",
      "text/plain": [
       "<Figure size 1440x288 with 2 Axes>"
      ]
     },
     "metadata": {
      "needs_background": "light"
     },
     "output_type": "display_data"
    }
   ],
   "source": [
    "model.visualize_precision_recall()"
   ]
  },
  {
   "cell_type": "code",
   "execution_count": 19,
   "metadata": {},
   "outputs": [],
   "source": [
    "min_precision, recall, _ = precision_recall_curve(pm.matches[\"Model 1\"])"
   ]
  },
  {
   "cell_type": "code",
   "execution_count": 26,
   "metadata": {},
   "outputs": [],
   "source": [
    "pm.group(minimum_similarity=0.8); \n",
    "df = pm.matches[\"Model 1\"]"
   ]
  },
  {
   "cell_type": "code",
   "execution_count": 27,
   "metadata": {},
   "outputs": [
    {
     "data": {
      "text/plain": [
       "['TF-IDF-Sklearn', 'Model 1', 'Model 2', 'Model 3', 'Model 4']"
      ]
     },
     "execution_count": 27,
     "metadata": {},
     "output_type": "execute_result"
    }
   ],
   "source": [
    "pm.get_all_model_ids()"
   ]
  },
  {
   "cell_type": "code",
   "execution_count": 28,
   "metadata": {},
   "outputs": [
    {
     "data": {
      "text/html": [
       "<div>\n",
       "<style scoped>\n",
       "    .dataframe tbody tr th:only-of-type {\n",
       "        vertical-align: middle;\n",
       "    }\n",
       "\n",
       "    .dataframe tbody tr th {\n",
       "        vertical-align: top;\n",
       "    }\n",
       "\n",
       "    .dataframe thead th {\n",
       "        text-align: right;\n",
       "    }\n",
       "</style>\n",
       "<table border=\"1\" class=\"dataframe\">\n",
       "  <thead>\n",
       "    <tr style=\"text-align: right;\">\n",
       "      <th></th>\n",
       "      <th>From</th>\n",
       "      <th>To</th>\n",
       "      <th>Similarity</th>\n",
       "      <th>Group</th>\n",
       "    </tr>\n",
       "  </thead>\n",
       "  <tbody>\n",
       "    <tr>\n",
       "      <th>0</th>\n",
       "      <td>Norm of the North: King Sized Adventure</td>\n",
       "      <td>Norm of the North: King Sized Adventure</td>\n",
       "      <td>1.0</td>\n",
       "      <td>Norm of the North: King Sized Adventure</td>\n",
       "    </tr>\n",
       "    <tr>\n",
       "      <th>1</th>\n",
       "      <td>Jandino: Whatever it Takes</td>\n",
       "      <td>Jandino: Whatever it Takes</td>\n",
       "      <td>1.0</td>\n",
       "      <td>Jandino: Whatever it Takes</td>\n",
       "    </tr>\n",
       "    <tr>\n",
       "      <th>2</th>\n",
       "      <td>Transformers Prime</td>\n",
       "      <td>Transformers Prime</td>\n",
       "      <td>1.0</td>\n",
       "      <td>Transformer</td>\n",
       "    </tr>\n",
       "    <tr>\n",
       "      <th>3</th>\n",
       "      <td>Transformers: Robots in Disguise</td>\n",
       "      <td>Transformers: Robots in Disguise</td>\n",
       "      <td>1.0</td>\n",
       "      <td>Transformers: Robots in Disguise</td>\n",
       "    </tr>\n",
       "    <tr>\n",
       "      <th>4</th>\n",
       "      <td>#realityhigh</td>\n",
       "      <td>#realityhigh</td>\n",
       "      <td>1.0</td>\n",
       "      <td>#realityhigh</td>\n",
       "    </tr>\n",
       "    <tr>\n",
       "      <th>...</th>\n",
       "      <td>...</td>\n",
       "      <td>...</td>\n",
       "      <td>...</td>\n",
       "      <td>...</td>\n",
       "    </tr>\n",
       "    <tr>\n",
       "      <th>6167</th>\n",
       "      <td>Kikoriki</td>\n",
       "      <td>Kikoriki</td>\n",
       "      <td>1.0</td>\n",
       "      <td>Kikoriki</td>\n",
       "    </tr>\n",
       "    <tr>\n",
       "      <th>6168</th>\n",
       "      <td>Red vs. Blue</td>\n",
       "      <td>Red vs. Blue</td>\n",
       "      <td>1.0</td>\n",
       "      <td>Red vs. Blue</td>\n",
       "    </tr>\n",
       "    <tr>\n",
       "      <th>6169</th>\n",
       "      <td>Maron</td>\n",
       "      <td>Maron</td>\n",
       "      <td>1.0</td>\n",
       "      <td>Maron</td>\n",
       "    </tr>\n",
       "    <tr>\n",
       "      <th>6170</th>\n",
       "      <td>A Young Doctor's Notebook and Other Stories</td>\n",
       "      <td>A Young Doctor's Notebook and Other Stories</td>\n",
       "      <td>1.0</td>\n",
       "      <td>A Young Doctor's Notebook and Other Stories</td>\n",
       "    </tr>\n",
       "    <tr>\n",
       "      <th>6171</th>\n",
       "      <td>Friends</td>\n",
       "      <td>Friends</td>\n",
       "      <td>1.0</td>\n",
       "      <td>Friends</td>\n",
       "    </tr>\n",
       "  </tbody>\n",
       "</table>\n",
       "<p>6172 rows × 4 columns</p>\n",
       "</div>"
      ],
      "text/plain": [
       "                                             From  \\\n",
       "0         Norm of the North: King Sized Adventure   \n",
       "1                      Jandino: Whatever it Takes   \n",
       "2                              Transformers Prime   \n",
       "3                Transformers: Robots in Disguise   \n",
       "4                                    #realityhigh   \n",
       "...                                           ...   \n",
       "6167                                     Kikoriki   \n",
       "6168                                 Red vs. Blue   \n",
       "6169                                        Maron   \n",
       "6170  A Young Doctor's Notebook and Other Stories   \n",
       "6171                                      Friends   \n",
       "\n",
       "                                               To  Similarity  \\\n",
       "0         Norm of the North: King Sized Adventure         1.0   \n",
       "1                      Jandino: Whatever it Takes         1.0   \n",
       "2                              Transformers Prime         1.0   \n",
       "3                Transformers: Robots in Disguise         1.0   \n",
       "4                                    #realityhigh         1.0   \n",
       "...                                           ...         ...   \n",
       "6167                                     Kikoriki         1.0   \n",
       "6168                                 Red vs. Blue         1.0   \n",
       "6169                                        Maron         1.0   \n",
       "6170  A Young Doctor's Notebook and Other Stories         1.0   \n",
       "6171                                      Friends         1.0   \n",
       "\n",
       "                                            Group  \n",
       "0         Norm of the North: King Sized Adventure  \n",
       "1                      Jandino: Whatever it Takes  \n",
       "2                                     Transformer  \n",
       "3                Transformers: Robots in Disguise  \n",
       "4                                    #realityhigh  \n",
       "...                                           ...  \n",
       "6167                                     Kikoriki  \n",
       "6168                                 Red vs. Blue  \n",
       "6169                                        Maron  \n",
       "6170  A Young Doctor's Notebook and Other Stories  \n",
       "6171                                      Friends  \n",
       "\n",
       "[6172 rows x 4 columns]"
      ]
     },
     "execution_count": 28,
     "metadata": {},
     "output_type": "execute_result"
    }
   ],
   "source": [
    "pm.matches[\"Model 4\"]"
   ]
  },
  {
   "cell_type": "markdown",
   "metadata": {},
   "source": [
    "# Edit distance"
   ]
  },
  {
   "cell_type": "code",
   "execution_count": 3,
   "metadata": {},
   "outputs": [
    {
     "name": "stderr",
     "output_type": "stream",
     "text": [
      "100%|██████████████████████████████████████████████████████████████████████████████| 1000/1000 [00:22<00:00, 43.91it/s]\n"
     ]
    }
   ],
   "source": [
    "ed = EditDistance(n_jobs=-1, score_cutoff=0.5)\n",
    "result = ed.match(movie_titles[\"Netflix\"][:1000], movie_titles[\"IMDB\"][:1000])"
   ]
  },
  {
   "cell_type": "code",
   "execution_count": 4,
   "metadata": {},
   "outputs": [
    {
     "data": {
      "text/html": [
       "<div>\n",
       "<style scoped>\n",
       "    .dataframe tbody tr th:only-of-type {\n",
       "        vertical-align: middle;\n",
       "    }\n",
       "\n",
       "    .dataframe tbody tr th {\n",
       "        vertical-align: top;\n",
       "    }\n",
       "\n",
       "    .dataframe thead th {\n",
       "        text-align: right;\n",
       "    }\n",
       "</style>\n",
       "<table border=\"1\" class=\"dataframe\">\n",
       "  <thead>\n",
       "    <tr style=\"text-align: right;\">\n",
       "      <th></th>\n",
       "      <th>From</th>\n",
       "      <th>To</th>\n",
       "      <th>Similarity</th>\n",
       "    </tr>\n",
       "  </thead>\n",
       "  <tbody>\n",
       "    <tr>\n",
       "      <th>0</th>\n",
       "      <td>Norm of the North: King Sized Adventure</td>\n",
       "      <td>The Bargain</td>\n",
       "      <td>0.855</td>\n",
       "    </tr>\n",
       "    <tr>\n",
       "      <th>1</th>\n",
       "      <td>Jandino: Whatever it Takes</td>\n",
       "      <td>It's a Great Life</td>\n",
       "      <td>0.855</td>\n",
       "    </tr>\n",
       "    <tr>\n",
       "      <th>2</th>\n",
       "      <td>Transformers Prime</td>\n",
       "      <td>The Informer</td>\n",
       "      <td>0.600</td>\n",
       "    </tr>\n",
       "    <tr>\n",
       "      <th>3</th>\n",
       "      <td>Transformers: Robots in Disguise</td>\n",
       "      <td>Traffic in Souls</td>\n",
       "      <td>0.855</td>\n",
       "    </tr>\n",
       "    <tr>\n",
       "      <th>4</th>\n",
       "      <td>#realityhigh</td>\n",
       "      <td>It</td>\n",
       "      <td>0.900</td>\n",
       "    </tr>\n",
       "  </tbody>\n",
       "</table>\n",
       "</div>"
      ],
      "text/plain": [
       "                                      From                 To  Similarity\n",
       "0  Norm of the North: King Sized Adventure        The Bargain       0.855\n",
       "1               Jandino: Whatever it Takes  It's a Great Life       0.855\n",
       "2                       Transformers Prime       The Informer       0.600\n",
       "3         Transformers: Robots in Disguise   Traffic in Souls       0.855\n",
       "4                             #realityhigh                 It       0.900"
      ]
     },
     "execution_count": 4,
     "metadata": {},
     "output_type": "execute_result"
    }
   ],
   "source": [
    "result.head()"
   ]
  },
  {
   "cell_type": "markdown",
   "metadata": {},
   "source": [
    "# TF-IDF"
   ]
  },
  {
   "cell_type": "code",
   "execution_count": 24,
   "metadata": {},
   "outputs": [],
   "source": [
    "model = TFIDF(n_gram_range=(3, 3), min_similarity=0.3)\n",
    "# matches = tfidf.match(movie_titles[\"Netflix\"], movie_titles[\"IMDB\"][:1000])\n",
    "matches = model.match([\"string_one\", \"string_two\"],\n",
    "                      [\"string_three\", \"string_four\"])"
   ]
  },
  {
   "cell_type": "code",
   "execution_count": 26,
   "metadata": {},
   "outputs": [
    {
     "data": {
      "text/html": [
       "<div>\n",
       "<style scoped>\n",
       "    .dataframe tbody tr th:only-of-type {\n",
       "        vertical-align: middle;\n",
       "    }\n",
       "\n",
       "    .dataframe tbody tr th {\n",
       "        vertical-align: top;\n",
       "    }\n",
       "\n",
       "    .dataframe thead th {\n",
       "        text-align: right;\n",
       "    }\n",
       "</style>\n",
       "<table border=\"1\" class=\"dataframe\">\n",
       "  <thead>\n",
       "    <tr style=\"text-align: right;\">\n",
       "      <th></th>\n",
       "      <th>From</th>\n",
       "      <th>To</th>\n",
       "      <th>Similarity</th>\n",
       "    </tr>\n",
       "  </thead>\n",
       "  <tbody>\n",
       "    <tr>\n",
       "      <th>0</th>\n",
       "      <td>string_one</td>\n",
       "      <td>None</td>\n",
       "      <td>0.000000</td>\n",
       "    </tr>\n",
       "    <tr>\n",
       "      <th>1</th>\n",
       "      <td>string_two</td>\n",
       "      <td>string_three</td>\n",
       "      <td>0.371644</td>\n",
       "    </tr>\n",
       "  </tbody>\n",
       "</table>\n",
       "</div>"
      ],
      "text/plain": [
       "         From            To  Similarity\n",
       "0  string_one          None    0.000000\n",
       "1  string_two  string_three    0.371644"
      ]
     },
     "execution_count": 26,
     "metadata": {},
     "output_type": "execute_result"
    }
   ],
   "source": [
    "matches.head()"
   ]
  },
  {
   "cell_type": "markdown",
   "metadata": {},
   "source": [
    "# Embeddings"
   ]
  },
  {
   "cell_type": "code",
   "execution_count": 27,
   "metadata": {},
   "outputs": [
    {
     "name": "stderr",
     "output_type": "stream",
     "text": [
      "100%|████████████████████████████████████████████████████████████████████████████████████| 2/2 [00:00<00:00, 21.98it/s]\n",
      "100%|███████████████████████████████████████████████████████████████████████████████████| 2/2 [00:00<00:00, 499.62it/s]\n"
     ]
    }
   ],
   "source": [
    "model = Embeddings(min_similarity=0.0)\n",
    "matches = model.match([\"string_one\", \"string_two\"],\n",
    "                      [\"string_three\", \"string_four\"])"
   ]
  },
  {
   "cell_type": "code",
   "execution_count": 23,
   "metadata": {},
   "outputs": [],
   "source": [
    "from flair.embeddings import FlairEmbeddings, TransformerWordEmbeddings, TransformerDocumentEmbeddings\n",
    "bert_embedding = TransformerWordEmbeddings('bert-base-multilingual-cased')"
   ]
  },
  {
   "cell_type": "code",
   "execution_count": 24,
   "metadata": {},
   "outputs": [],
   "source": [
    "model = Embeddings([bert_embedding], min_similarity=0.0)\n",
    "matches = model.match([\"string_one\", \"string_two\"],\n",
    "                      [\"string_three\", \"string_four\"])"
   ]
  }
 ],
 "metadata": {
  "kernelspec": {
   "display_name": "Python 3",
   "language": "python",
   "name": "python3"
  },
  "language_info": {
   "codemirror_mode": {
    "name": "ipython",
    "version": 3
   },
   "file_extension": ".py",
   "mimetype": "text/x-python",
   "name": "python",
   "nbconvert_exporter": "python",
   "pygments_lexer": "ipython3",
   "version": "3.7.3"
  }
 },
 "nbformat": 4,
 "nbformat_minor": 4
}
