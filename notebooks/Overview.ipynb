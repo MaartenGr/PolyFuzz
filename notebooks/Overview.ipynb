{
 "cells": [
  {
   "cell_type": "markdown",
   "metadata": {},
   "source": [
    "https://bergvca.github.io/2020/01/02/string-grouper.html"
   ]
  },
  {
   "cell_type": "code",
   "execution_count": 13,
   "metadata": {},
   "outputs": [],
   "source": [
    "import pandas as pd\n",
    "import numpy as np\n",
    "from sklearn.neighbors import NearestNeighbors\n",
    "from sklearn.metrics.pairwise import cosine_similarity\n",
    "from typing import List\n",
    "\n",
    "try:\n",
    "    from sparse_dot_topn import awesome_cossim_topn\n",
    "    _HAVE_SPARSE_DOT = True\n",
    "except ImportError:\n",
    "    _HAVE_SPARSE_DOT = False"
   ]
  },
  {
   "cell_type": "code",
   "execution_count": 2,
   "metadata": {},
   "outputs": [
    {
     "name": "stdout",
     "output_type": "stream",
     "text": [
      "The autoreload extension is already loaded. To reload it, use:\n",
      "  %reload_ext autoreload\n"
     ]
    }
   ],
   "source": [
    "import pandas as pd\n",
    "import json\n",
    "import matplotlib.pyplot as plt\n",
    "%matplotlib inline\n",
    "\n",
    "# Needed to load in custom package from upper dir\n",
    "# Not needed if you pip installed the package\n",
    "import sys\n",
    "sys.path.insert(1, '../')\n",
    "\n",
    "# Custom packages\n",
    "from polyfuzz.models import EditDistance, TFIDF, BaseMatcher\n",
    "import polyfuzz as pf\n",
    "\n",
    "# Reload packages\n",
    "%load_ext autoreload\n",
    "%autoreload 2"
   ]
  },
  {
   "cell_type": "code",
   "execution_count": 3,
   "metadata": {},
   "outputs": [
    {
     "data": {
      "text/plain": [
       "abc.ABCMeta"
      ]
     },
     "execution_count": 3,
     "metadata": {},
     "output_type": "execute_result"
    }
   ],
   "source": [
    "type(TFIDF)"
   ]
  },
  {
   "cell_type": "code",
   "execution_count": 6,
   "metadata": {},
   "outputs": [
    {
     "data": {
      "text/plain": [
       "True"
      ]
     },
     "execution_count": 6,
     "metadata": {},
     "output_type": "execute_result"
    }
   ],
   "source": [
    "isinstance(test, BaseMatcher)"
   ]
  },
  {
   "cell_type": "code",
   "execution_count": 5,
   "metadata": {},
   "outputs": [],
   "source": [
    "test = TFIDF()"
   ]
  },
  {
   "cell_type": "code",
   "execution_count": null,
   "metadata": {},
   "outputs": [],
   "source": []
  },
  {
   "cell_type": "code",
   "execution_count": null,
   "metadata": {},
   "outputs": [],
   "source": []
  },
  {
   "cell_type": "code",
   "execution_count": 15,
   "metadata": {},
   "outputs": [],
   "source": [
    "with open(\"../data/company_names.json\") as outfile:\n",
    "    company_names = json.load(outfile)\n",
    "\n",
    "with open(\"../data/movie_titles.json\") as outfile:\n",
    "    movie_titles = json.load(outfile)"
   ]
  },
  {
   "cell_type": "code",
   "execution_count": 60,
   "metadata": {},
   "outputs": [],
   "source": [
    "from sklearn.feature_extraction.text import TfidfVectorizer\n",
    "from sparse_dot_topn import awesome_cossim_topn\n",
    "import numpy as np\n",
    "from sklearn.neighbors import NearestNeighbors\n",
    "\n",
    "\n",
    "def _create_ngrams(string: str):\n",
    "    \"\"\" Create n_grams from a string\n",
    "\n",
    "    Steps:\n",
    "        * Extract character-level ngrams with `self.n_gram_range` (both ends inclusive)\n",
    "        * Remove n-grams that have a whitespace in them\n",
    "    \"\"\"\n",
    "    \n",
    "    result = []\n",
    "    for n in range(3, 4):\n",
    "        ngrams = zip(*[string[i:] for i in range(n)])\n",
    "        ngrams = [''.join(ngram) for ngram in ngrams if ' ' not in ngram]\n",
    "        result.extend(ngrams)\n",
    "\n",
    "    return result\n",
    "\n",
    "# vectorizer = TfidfVectorizer(min_df=1, analyzer=_create_ngrams).fit(movie_titles[\"IMDB\"][:5000] + movie_titles[\"Netflix\"])\n",
    "# tf_idf_to = vectorizer.transform(movie_titles[\"IMDB\"][:5000])\n",
    "# tf_idf_from = vectorizer.transform(movie_titles[\"Netflix\"])\n",
    "\n",
    "vectorizer = TfidfVectorizer(min_df=1, analyzer=_create_ngrams).fit(movie_titles[\"Netflix\"] + movie_titles[\"Netflix\"])\n",
    "tf_idf_to = vectorizer.transform(movie_titles[\"Netflix\"])\n",
    "tf_idf_from = vectorizer.transform(movie_titles[\"IMDB\"][:5000])\n",
    "\n"
   ]
  },
  {
   "cell_type": "code",
   "execution_count": 69,
   "metadata": {},
   "outputs": [],
   "source": [
    "knn = NearestNeighbors(n_neighbors=2, n_jobs=-1, metric='cosine').fit(tf_idf_to)\n",
    "distances, indices = knn.kneighbors(tf_idf_to)\n",
    "\n",
    "# similarity = [round(1 - distance, 3) for distance in distances.flatten()]"
   ]
  },
  {
   "cell_type": "code",
   "execution_count": 72,
   "metadata": {},
   "outputs": [
    {
     "data": {
      "text/plain": [
       "6172"
      ]
     },
     "execution_count": 72,
     "metadata": {},
     "output_type": "execute_result"
    }
   ],
   "source": [
    "len(distances[:, 1])"
   ]
  },
  {
   "cell_type": "code",
   "execution_count": 73,
   "metadata": {},
   "outputs": [
    {
     "data": {
      "text/plain": [
       "(6172, 2)"
      ]
     },
     "execution_count": 73,
     "metadata": {},
     "output_type": "execute_result"
    }
   ],
   "source": [
    "distances.shape"
   ]
  },
  {
   "cell_type": "code",
   "execution_count": null,
   "metadata": {},
   "outputs": [],
   "source": []
  },
  {
   "cell_type": "code",
   "execution_count": 56,
   "metadata": {},
   "outputs": [],
   "source": [
    "similarity_matrix = awesome_cossim_topn(tf_idf_to, tf_idf_from.T, 2, 0.1)\n",
    "similarity_matrix = similarity_matrix.tolil()\n",
    "similarity_matrix.setdiag(0.)\n",
    "similarity_matrix = similarity_matrix.tocsr()\n",
    "# indices = np.array(similarity_matrix.argmax(axis=1).T).flatten()\n",
    "# similarity = similarity_matrix.max(axis=1).toarray().T.flatten()"
   ]
  },
  {
   "cell_type": "code",
   "execution_count": 57,
   "metadata": {},
   "outputs": [],
   "source": [
    "test = similarity_matrix[0].toarray()[0]"
   ]
  },
  {
   "cell_type": "code",
   "execution_count": 58,
   "metadata": {},
   "outputs": [],
   "source": [
    "test.sort()"
   ]
  },
  {
   "cell_type": "code",
   "execution_count": 59,
   "metadata": {},
   "outputs": [
    {
     "data": {
      "text/plain": [
       "array([0.        , 0.        , 0.        , ..., 0.        , 0.44435037,\n",
       "       0.52046964])"
      ]
     },
     "execution_count": 59,
     "metadata": {},
     "output_type": "execute_result"
    }
   ],
   "source": [
    "test"
   ]
  },
  {
   "cell_type": "code",
   "execution_count": 21,
   "metadata": {},
   "outputs": [
    {
     "data": {
      "text/plain": [
       "array([0., 0., 0., ..., 0., 0., 0.])"
      ]
     },
     "execution_count": 21,
     "metadata": {},
     "output_type": "execute_result"
    }
   ],
   "source": [
    "similarity"
   ]
  },
  {
   "cell_type": "code",
   "execution_count": null,
   "metadata": {},
   "outputs": [],
   "source": []
  },
  {
   "cell_type": "code",
   "execution_count": 5,
   "metadata": {},
   "outputs": [],
   "source": [
    "vectorizer = TfidfVectorizer(min_df=1, analyzer=_create_ngrams).fit(company_names)\n",
    "tf_idf_to = vectorizer.transform(company_names)\n",
    "tf_idf_from = vectorizer.transform(company_names)"
   ]
  },
  {
   "cell_type": "code",
   "execution_count": 12,
   "metadata": {},
   "outputs": [],
   "source": [
    "similarity_matrix = awesome_cossim_topn(tf_idf_to, tf_idf_from.T, 1, 0.9, use_threads=True, n_jobs=4)"
   ]
  },
  {
   "cell_type": "code",
   "execution_count": null,
   "metadata": {},
   "outputs": [],
   "source": [
    "indices = np.array(similarity_matrix.argmax(axis=1).T).flatten()"
   ]
  },
  {
   "cell_type": "code",
   "execution_count": null,
   "metadata": {},
   "outputs": [],
   "source": [
    "similarity = similarity_matrix.max(axis=1).toarray().T.flatten()"
   ]
  },
  {
   "cell_type": "code",
   "execution_count": null,
   "metadata": {},
   "outputs": [],
   "source": []
  },
  {
   "cell_type": "code",
   "execution_count": null,
   "metadata": {},
   "outputs": [],
   "source": []
  },
  {
   "cell_type": "code",
   "execution_count": null,
   "metadata": {},
   "outputs": [],
   "source": []
  },
  {
   "cell_type": "code",
   "execution_count": 15,
   "metadata": {},
   "outputs": [],
   "source": [
    "# Similarity\n",
    "similarity_matrix = awesome_cossim_topn(tf_idf_to, tf_idf_to.T, 10, 0.9)\n",
    "similarity_matrix = similarity_matrix.tolil()\n",
    "similarity_matrix.setdiag(0.)\n",
    "\n",
    "# # DataFrame\n",
    "matches = [(row, col, similarity_matrix[row, col]) for row, col in zip(*similarity_matrix.nonzero())]\n",
    "matches = pd.DataFrame(matches, columns=[\"From\", \"To\", \"Similarity\"])\n",
    "matches = matches[matches.groupby(['From'])['Similarity'].transform(max) == matches['Similarity']]\n",
    "matches.From = [movie_titles[\"IMDB\"][:5000][idx] for idx in matches.From]\n",
    "matches.To = [movie_titles[\"IMDB\"][:5000][idx] for idx in matches.To]"
   ]
  },
  {
   "cell_type": "code",
   "execution_count": 16,
   "metadata": {},
   "outputs": [],
   "source": [
    "cluster_mapping = {}\n",
    "cluster_id = 0\n",
    "\n",
    "for row in matches.itertuples():\n",
    "    \n",
    "    # If from string has not already been mapped\n",
    "    if not cluster_mapping.get(row.From):\n",
    "        \n",
    "        # If the to string has not already been mapped\n",
    "        if not cluster_mapping.get(row.To):\n",
    "            cluster_mapping[row.To] = cluster_id\n",
    "            cluster_mapping[row.From] = cluster_id\n",
    "            cluster_id += 1\n",
    "            \n",
    "        # If the to string has already been mapped\n",
    "        else:\n",
    "            cluster_mapping[row.From] = cluster_mapping.get(row.To)\n",
    "            \n",
    "# Populate the clusters\n",
    "clusters = {}\n",
    "for key, value in cluster_mapping.items():\n",
    "    clusters.setdefault(value, [])\n",
    "    clusters[value].append(key)"
   ]
  },
  {
   "cell_type": "code",
   "execution_count": 18,
   "metadata": {},
   "outputs": [
    {
     "data": {
      "text/plain": [
       "{'Fantômas': 49,\n",
       " 'Fantômas contre Fantômas': 49,\n",
       " 'Perils of Pauline': 1,\n",
       " 'The Perils of Pauline': 1,\n",
       " 'Poor Little Rich Girl': 2,\n",
       " 'The Poor Little Rich Girl': 2,\n",
       " 'Broadway': 3,\n",
       " 'Broadway Love': 3,\n",
       " \"J'accuse!\": 4,\n",
       " \"J'accuse\": 4,\n",
       " 'The New Adventures of Tarzan': 5,\n",
       " 'Adventures of Tarzan': 5,\n",
       " 'The Son of Monte Cristo': 6,\n",
       " 'Monte Cristo': 6,\n",
       " 'The Phantom': 7,\n",
       " 'Phantom': 7,\n",
       " 'The Saturday Night Kid': 8,\n",
       " 'Saturday Night': 8,\n",
       " 'Phantom of the Opera': 9,\n",
       " 'The Phantom of the Opera': 9,\n",
       " 'The Man from Tumbleweeds': 10,\n",
       " 'Tumbleweeds': 10,\n",
       " 'San Francisco': 11,\n",
       " 'Old San Francisco': 11,\n",
       " 'Law of the Underworld': 12,\n",
       " 'Underworld': 12,\n",
       " 'Her Cardboard Lover': 13,\n",
       " 'The Cardboard Lover': 13,\n",
       " 'At the Circus': 14,\n",
       " 'The Circus': 14,\n",
       " 'Docks of New York': 15,\n",
       " 'The Docks of New York': 15,\n",
       " 'Power of the Press': 16,\n",
       " 'The Power of the Press': 16,\n",
       " 'Paris Underground': 17,\n",
       " 'Underground': 17,\n",
       " 'Bulldog Drummond at Bay': 18,\n",
       " 'Bulldog Drummond': 18,\n",
       " 'Kid Dynamite': 19,\n",
       " 'Dynamite': 19,\n",
       " 'Arizona': 20,\n",
       " 'In Old Arizona': 20,\n",
       " 'The Man in the Iron Mask': 21,\n",
       " 'The Iron Mask': 21,\n",
       " 'My Lucky Star': 22,\n",
       " 'Lucky Star': 22,\n",
       " 'Piccadilly Jim': 23,\n",
       " 'Piccadilly': 23,\n",
       " 'Up the River': 24,\n",
       " 'The River': 24,\n",
       " 'Red Salute': 25,\n",
       " 'Salute': 25,\n",
       " 'The Big Shakedown': 26,\n",
       " 'The Shakedown': 26,\n",
       " 'On the Sunny Side': 27,\n",
       " 'Sunny Side Up': 27,\n",
       " 'The Gay Divorcee': 28,\n",
       " 'The Divorcee': 28,\n",
       " 'Mad Holiday': 29,\n",
       " 'Holiday': 29,\n",
       " 'The Texans': 30,\n",
       " 'The Texan': 30,\n",
       " 'Son of Dracula': 31,\n",
       " 'Dracula': 31,\n",
       " 'Son of Frankenstein': 32,\n",
       " 'Frankenstein': 32,\n",
       " 'No Limit': 33,\n",
       " 'Limite': 33,\n",
       " 'Painted Desert': 34,\n",
       " 'The Painted Desert': 34,\n",
       " 'Road to Singapore': 35,\n",
       " 'The Road to Singapore': 35,\n",
       " 'Desire': 36,\n",
       " 'As You Desire Me': 36,\n",
       " 'The Girl Downstairs': 37,\n",
       " 'Downstairs': 37,\n",
       " 'Gran Hotel': 38,\n",
       " 'Grand Hotel': 38,\n",
       " 'Life Begins at 40': 39,\n",
       " 'Life Begins': 39,\n",
       " 'Broadway Bad': 3,\n",
       " 'Private Detective': 40,\n",
       " 'Private Detective 62': 40,\n",
       " 'Mystery House': 41,\n",
       " 'House of Mystery': 41,\n",
       " '3 Men in White': 42,\n",
       " 'Men in White': 42,\n",
       " 'Les Misérables': 43,\n",
       " 'Les misérables': 43,\n",
       " 'Barbary Coast Gent': 44,\n",
       " 'Barbary Coast': 44,\n",
       " \"George White's Scandals\": 45,\n",
       " \"George White's 1935 Scandals\": 45,\n",
       " 'Kentucky': 46,\n",
       " 'In Old Kentucky': 46,\n",
       " 'New Frontier': 47,\n",
       " 'The New Frontier': 47,\n",
       " 'Shadow of a Doubt': 48,\n",
       " 'Shadow of Doubt': 48,\n",
       " 'Tumbling Tumbleweeds': 10,\n",
       " 'Romeo y Julieta': 50,\n",
       " 'Romeo and Juliet': 50,\n",
       " 'The Spoilers': 51,\n",
       " 'Sea Spoilers': 51,\n",
       " 'Man of Conquest': 52,\n",
       " 'Conquest': 52,\n",
       " 'Pyotr pervyy II': 53,\n",
       " 'Pyotr pervyy I': 53,\n",
       " 'The Big Blockade': 54,\n",
       " 'Blockade': 54,\n",
       " \"She Couldn't Say No\": 55,\n",
       " \"He Couldn't Say No\": 55,\n",
       " 'The Arizona Kid': 20,\n",
       " 'Inspector Hornleigh Goes to It': 56,\n",
       " 'Inspector Hornleigh': 56,\n",
       " 'King of the Underworld': 12,\n",
       " 'Mexican Spitfire at Sea': 57,\n",
       " 'Mexican Spitfire': 57,\n",
       " 'Stagecoach War': 58,\n",
       " 'Stagecoach': 58,\n",
       " 'In Old Colorado': 59,\n",
       " 'Colorado': 59,\n",
       " 'Lumberjack': 60,\n",
       " 'King of the Lumberjacks': 60,\n",
       " 'Mexican Spitfire Out West': 57,\n",
       " 'A Night to Remember': 61,\n",
       " 'Remember the Night': 61,\n",
       " 'Buffalo Bill': 62,\n",
       " 'Young Buffalo Bill': 62,\n",
       " 'House of Frankenstein': 32}"
      ]
     },
     "execution_count": 18,
     "metadata": {},
     "output_type": "execute_result"
    }
   ],
   "source": [
    "cluster_mapping"
   ]
  },
  {
   "cell_type": "code",
   "execution_count": 13,
   "metadata": {},
   "outputs": [],
   "source": [
    "matches.From = [movie_titles[\"IMDB\"][:5000][idx] for idx in matches.From]\n",
    "matches.To = [movie_titles[\"IMDB\"][:5000][idx] for idx in matches.To]"
   ]
  },
  {
   "cell_type": "code",
   "execution_count": 14,
   "metadata": {},
   "outputs": [
    {
     "data": {
      "text/html": [
       "<div>\n",
       "<style scoped>\n",
       "    .dataframe tbody tr th:only-of-type {\n",
       "        vertical-align: middle;\n",
       "    }\n",
       "\n",
       "    .dataframe tbody tr th {\n",
       "        vertical-align: top;\n",
       "    }\n",
       "\n",
       "    .dataframe thead th {\n",
       "        text-align: right;\n",
       "    }\n",
       "</style>\n",
       "<table border=\"1\" class=\"dataframe\">\n",
       "  <thead>\n",
       "    <tr style=\"text-align: right;\">\n",
       "      <th></th>\n",
       "      <th>From</th>\n",
       "      <th>To</th>\n",
       "      <th>Similarity</th>\n",
       "    </tr>\n",
       "  </thead>\n",
       "  <tbody>\n",
       "    <tr>\n",
       "      <th>0</th>\n",
       "      <td>Fantômas contre Fantômas</td>\n",
       "      <td>2331</td>\n",
       "      <td>0.944740</td>\n",
       "    </tr>\n",
       "    <tr>\n",
       "      <th>1</th>\n",
       "      <td>The Perils of Pauline</td>\n",
       "      <td>1898</td>\n",
       "      <td>0.991516</td>\n",
       "    </tr>\n",
       "    <tr>\n",
       "      <th>2</th>\n",
       "      <td>The Poor Little Rich Girl</td>\n",
       "      <td>2435</td>\n",
       "      <td>0.991007</td>\n",
       "    </tr>\n",
       "    <tr>\n",
       "      <th>3</th>\n",
       "      <td>Broadway Love</td>\n",
       "      <td>702</td>\n",
       "      <td>0.910526</td>\n",
       "    </tr>\n",
       "    <tr>\n",
       "      <th>4</th>\n",
       "      <td>J'accuse</td>\n",
       "      <td>3226</td>\n",
       "      <td>0.907531</td>\n",
       "    </tr>\n",
       "    <tr>\n",
       "      <th>...</th>\n",
       "      <td>...</td>\n",
       "      <td>...</td>\n",
       "      <td>...</td>\n",
       "    </tr>\n",
       "    <tr>\n",
       "      <th>131</th>\n",
       "      <td>Romeo y Julieta</td>\n",
       "      <td>2458</td>\n",
       "      <td>0.907855</td>\n",
       "    </tr>\n",
       "    <tr>\n",
       "      <th>132</th>\n",
       "      <td>3 Men in White</td>\n",
       "      <td>1864</td>\n",
       "      <td>1.000000</td>\n",
       "    </tr>\n",
       "    <tr>\n",
       "      <th>133</th>\n",
       "      <td>Docks of New York</td>\n",
       "      <td>626</td>\n",
       "      <td>0.986419</td>\n",
       "    </tr>\n",
       "    <tr>\n",
       "      <th>134</th>\n",
       "      <td>George White's Scandals</td>\n",
       "      <td>2068</td>\n",
       "      <td>0.905366</td>\n",
       "    </tr>\n",
       "    <tr>\n",
       "      <th>135</th>\n",
       "      <td>Paris Underground</td>\n",
       "      <td>679</td>\n",
       "      <td>0.902088</td>\n",
       "    </tr>\n",
       "  </tbody>\n",
       "</table>\n",
       "<p>130 rows × 3 columns</p>\n",
       "</div>"
      ],
      "text/plain": [
       "                          From    To  Similarity\n",
       "0     Fantômas contre Fantômas  2331    0.944740\n",
       "1        The Perils of Pauline  1898    0.991516\n",
       "2    The Poor Little Rich Girl  2435    0.991007\n",
       "3                Broadway Love   702    0.910526\n",
       "4                     J'accuse  3226    0.907531\n",
       "..                         ...   ...         ...\n",
       "131            Romeo y Julieta  2458    0.907855\n",
       "132             3 Men in White  1864    1.000000\n",
       "133          Docks of New York   626    0.986419\n",
       "134    George White's Scandals  2068    0.905366\n",
       "135          Paris Underground   679    0.902088\n",
       "\n",
       "[130 rows x 3 columns]"
      ]
     },
     "execution_count": 14,
     "metadata": {},
     "output_type": "execute_result"
    }
   ],
   "source": [
    "matches"
   ]
  },
  {
   "cell_type": "code",
   "execution_count": 11,
   "metadata": {},
   "outputs": [
    {
     "data": {
      "text/plain": [
       "{2331: 49,\n",
       " 27: 49,\n",
       " 1898: 1,\n",
       " 36: 1,\n",
       " 2435: 2,\n",
       " 100: 2,\n",
       " 702: 3,\n",
       " 118: 3,\n",
       " 3226: 4,\n",
       " 162: 4,\n",
       " 2150: 5,\n",
       " 230: 5,\n",
       " 3608: 6,\n",
       " 292: 6,\n",
       " 1153: 7,\n",
       " 298: 7,\n",
       " 789: 8,\n",
       " 302: 8,\n",
       " 4448: 9,\n",
       " 431: 9,\n",
       " 3545: 10,\n",
       " 450: 10,\n",
       " 2460: 11,\n",
       " 577: 11,\n",
       " 2958: 12,\n",
       " 604: 12,\n",
       " 4061: 13,\n",
       " 619: 13,\n",
       " 3114: 14,\n",
       " 622: 14,\n",
       " 4847: 15,\n",
       " 626: 15,\n",
       " 4450: 16,\n",
       " 660: 16,\n",
       " 4936: 17,\n",
       " 679: 17,\n",
       " 2573: 18,\n",
       " 705: 18,\n",
       " 4399: 19,\n",
       " 719: 19,\n",
       " 1121: 20,\n",
       " 745: 20,\n",
       " 3256: 21,\n",
       " 747: 21,\n",
       " 2987: 22,\n",
       " 759: 22,\n",
       " 2429: 23,\n",
       " 777: 23,\n",
       " 987: 24,\n",
       " 784: 24,\n",
       " 2188: 25,\n",
       " 788: 25,\n",
       " 1721: 26,\n",
       " 791: 26,\n",
       " 4149: 27,\n",
       " 804: 27,\n",
       " 1784: 28,\n",
       " 863: 28,\n",
       " 2390: 29,\n",
       " 891: 29,\n",
       " 3062: 30,\n",
       " 980: 30,\n",
       " 4469: 31,\n",
       " 1050: 31,\n",
       " 3324: 32,\n",
       " 1069: 32,\n",
       " 2155: 33,\n",
       " 1109: 33,\n",
       " 2996: 34,\n",
       " 1146: 34,\n",
       " 3590: 35,\n",
       " 1169: 35,\n",
       " 2319: 36,\n",
       " 1227: 36,\n",
       " 2915: 37,\n",
       " 1266: 37,\n",
       " 4607: 38,\n",
       " 1286: 38,\n",
       " 2108: 39,\n",
       " 1319: 39,\n",
       " 1482: 3,\n",
       " 3297: 40,\n",
       " 1628: 40,\n",
       " 2989: 41,\n",
       " 1810: 41,\n",
       " 4759: 42,\n",
       " 1864: 42,\n",
       " 2135: 43,\n",
       " 1869: 43,\n",
       " 4529: 44,\n",
       " 1995: 44,\n",
       " 4869: 45,\n",
       " 2068: 45,\n",
       " 2952: 46,\n",
       " 2093: 46,\n",
       " 3277: 47,\n",
       " 2151: 47,\n",
       " 4460: 48,\n",
       " 2203: 48,\n",
       " 2236: 10,\n",
       " 4720: 50,\n",
       " 2458: 50,\n",
       " 4199: 51,\n",
       " 2464: 51,\n",
       " 3257: 52,\n",
       " 2584: 52,\n",
       " 2881: 53,\n",
       " 2730: 53,\n",
       " 3990: 54,\n",
       " 2853: 54,\n",
       " 3905: 55,\n",
       " 2929: 55,\n",
       " 3110: 20,\n",
       " 3794: 56,\n",
       " 3220: 56,\n",
       " 3236: 12,\n",
       " 4122: 57,\n",
       " 3260: 57,\n",
       " 3614: 58,\n",
       " 3328: 58,\n",
       " 3792: 59,\n",
       " 3434: 59,\n",
       " 4654: 60,\n",
       " 3522: 60,\n",
       " 3552: 57,\n",
       " 4434: 61,\n",
       " 3587: 61,\n",
       " 4543: 62,\n",
       " 3660: 62,\n",
       " 4624: 32}"
      ]
     },
     "execution_count": 11,
     "metadata": {},
     "output_type": "execute_result"
    }
   ],
   "source": [
    "cluster_mapping"
   ]
  },
  {
   "cell_type": "code",
   "execution_count": 474,
   "metadata": {},
   "outputs": [],
   "source": []
  },
  {
   "cell_type": "code",
   "execution_count": 476,
   "metadata": {},
   "outputs": [
    {
     "name": "stdout",
     "output_type": "stream",
     "text": [
      "Broadway\n",
      "Broadway Love\n",
      "Broadway Bad\n"
     ]
    }
   ],
   "source": [
    "for index in clusters[3]:\n",
    "    print(movie_titles[\"IMDB\"][index])"
   ]
  },
  {
   "cell_type": "code",
   "execution_count": null,
   "metadata": {},
   "outputs": [],
   "source": []
  },
  {
   "cell_type": "code",
   "execution_count": null,
   "metadata": {},
   "outputs": [],
   "source": []
  },
  {
   "cell_type": "code",
   "execution_count": null,
   "metadata": {},
   "outputs": [],
   "source": []
  },
  {
   "cell_type": "code",
   "execution_count": 444,
   "metadata": {},
   "outputs": [],
   "source": [
    "# Single Linkage\n",
    "test = matches[[\"From\", \"To\"]].values; test\n",
    "clusters = {}\n",
    "cluster_val = 0\n",
    "for match in test:\n",
    "    if not clusters.get(match[0]):\n",
    "        if not clusters.get(match[1]):\n",
    "            clusters[match[0]] = cluster_val\n",
    "            clusters[match[1]] = cluster_val\n",
    "            cluster_val += 1\n",
    "        else:\n",
    "            clusters[match[0]] = clusters.get(match[1])\n",
    "            cluster_val += 1\n",
    "            \n"
   ]
  },
  {
   "cell_type": "code",
   "execution_count": 410,
   "metadata": {},
   "outputs": [
    {
     "data": {
      "text/html": [
       "<div>\n",
       "<style scoped>\n",
       "    .dataframe tbody tr th:only-of-type {\n",
       "        vertical-align: middle;\n",
       "    }\n",
       "\n",
       "    .dataframe tbody tr th {\n",
       "        vertical-align: top;\n",
       "    }\n",
       "\n",
       "    .dataframe thead th {\n",
       "        text-align: right;\n",
       "    }\n",
       "</style>\n",
       "<table border=\"1\" class=\"dataframe\">\n",
       "  <thead>\n",
       "    <tr style=\"text-align: right;\">\n",
       "      <th></th>\n",
       "      <th>From</th>\n",
       "      <th>To</th>\n",
       "      <th>Similarity</th>\n",
       "    </tr>\n",
       "  </thead>\n",
       "  <tbody>\n",
       "    <tr>\n",
       "      <th>448</th>\n",
       "      <td>1992</td>\n",
       "      <td>697</td>\n",
       "      <td>0.722615</td>\n",
       "    </tr>\n",
       "  </tbody>\n",
       "</table>\n",
       "</div>"
      ],
      "text/plain": [
       "     From   To  Similarity\n",
       "448  1992  697    0.722615"
      ]
     },
     "execution_count": 410,
     "metadata": {},
     "output_type": "execute_result"
    }
   ],
   "source": [
    "matches.loc[(matches.From==1992) | (matches.To==1992), :]"
   ]
  },
  {
   "cell_type": "code",
   "execution_count": null,
   "metadata": {},
   "outputs": [],
   "source": []
  },
  {
   "cell_type": "code",
   "execution_count": null,
   "metadata": {},
   "outputs": [],
   "source": []
  },
  {
   "cell_type": "code",
   "execution_count": null,
   "metadata": {},
   "outputs": [],
   "source": []
  },
  {
   "cell_type": "code",
   "execution_count": 412,
   "metadata": {},
   "outputs": [
    {
     "data": {
      "text/plain": [
       "('Atlantis', 'Atlantic', 'Die Herrin von Atlantis', 'Atlantic Adventure')"
      ]
     },
     "execution_count": 412,
     "metadata": {},
     "output_type": "execute_result"
    }
   ],
   "source": [
    "movie_titles[\"IMDB\"][:5000][10], movie_titles[\"IMDB\"][:5000][697], movie_titles[\"IMDB\"][:5000][1295], movie_titles[\"IMDB\"][:5000][1992]"
   ]
  },
  {
   "cell_type": "code",
   "execution_count": null,
   "metadata": {},
   "outputs": [],
   "source": [
    "10, 697, 1295, 1992"
   ]
  },
  {
   "cell_type": "code",
   "execution_count": 456,
   "metadata": {},
   "outputs": [
    {
     "name": "stdout",
     "output_type": "stream",
     "text": [
      "697\n",
      "10\n",
      "1295\n",
      "1992\n"
     ]
    }
   ],
   "source": [
    "for key in cluster_mapping.keys():\n",
    "    if cluster_mapping[key] == 1:\n",
    "        print(key)"
   ]
  },
  {
   "cell_type": "code",
   "execution_count": null,
   "metadata": {},
   "outputs": [],
   "source": []
  },
  {
   "cell_type": "code",
   "execution_count": null,
   "metadata": {},
   "outputs": [],
   "source": []
  },
  {
   "cell_type": "code",
   "execution_count": 387,
   "metadata": {},
   "outputs": [],
   "source": [
    "mappings = {}"
   ]
  },
  {
   "cell_type": "code",
   "execution_count": 388,
   "metadata": {},
   "outputs": [],
   "source": [
    "matches.From = matches.From.astype(int)"
   ]
  },
  {
   "cell_type": "code",
   "execution_count": 389,
   "metadata": {},
   "outputs": [],
   "source": [
    "for i in matches.values:\n",
    "    mappings[int(i[0])] = int(i[1])"
   ]
  },
  {
   "cell_type": "code",
   "execution_count": 384,
   "metadata": {},
   "outputs": [],
   "source": [
    "for key in mappings.keys():\n",
    "    if mappings.get(mappings[key]):\n",
    "        mappings[key] = mappings.get(mappings[key])\n",
    "        print(mappings[key])"
   ]
  },
  {
   "cell_type": "code",
   "execution_count": null,
   "metadata": {},
   "outputs": [],
   "source": []
  },
  {
   "cell_type": "code",
   "execution_count": null,
   "metadata": {},
   "outputs": [],
   "source": []
  },
  {
   "cell_type": "code",
   "execution_count": null,
   "metadata": {},
   "outputs": [],
   "source": []
  },
  {
   "cell_type": "code",
   "execution_count": 194,
   "metadata": {},
   "outputs": [
    {
     "data": {
      "image/png": "[encoded data removed]",
      "text/plain": [
       "<Figure size 1800x720 with 1 Axes>"
      ]
     },
     "metadata": {
      "needs_background": "light"
     },
     "output_type": "display_data"
    }
   ],
   "source": [
    "from scipy.cluster.hierarchy import dendrogram, linkage\n",
    "from matplotlib import pyplot as plt\n",
    "X = [[i] for i in [2, 8, 0, 4, 1, 9, 9, 0]]\n",
    "\n",
    "Z = linkage(X, 'single')\n",
    "fig = plt.figure(figsize=(25, 10))\n",
    "dn = dendrogram(Z)\n",
    "plt.show()"
   ]
  },
  {
   "cell_type": "code",
   "execution_count": null,
   "metadata": {},
   "outputs": [],
   "source": []
  },
  {
   "cell_type": "code",
   "execution_count": 184,
   "metadata": {},
   "outputs": [],
   "source": [
    "from tqdm import tqdm"
   ]
  },
  {
   "cell_type": "code",
   "execution_count": 186,
   "metadata": {},
   "outputs": [
    {
     "name": "stderr",
     "output_type": "stream",
     "text": [
      "8427it [00:00, 36816.36it/s]\n"
     ]
    }
   ],
   "source": [
    "for row, col in tqdm(zip(*similarity_matrix.nonzero())):\n",
    "    val = similarity_matrix[row, col]"
   ]
  },
  {
   "cell_type": "code",
   "execution_count": null,
   "metadata": {},
   "outputs": [],
   "source": []
  },
  {
   "cell_type": "code",
   "execution_count": 50,
   "metadata": {},
   "outputs": [],
   "source": [
    "from sklearn.metrics.pairwise import cosine_similarity\n",
    "from scipy.sparse.csgraph import connected_components"
   ]
  },
  {
   "cell_type": "code",
   "execution_count": 98,
   "metadata": {},
   "outputs": [],
   "source": [
    "from sklearn.cluster import DBSCAN\n",
    "from sklearn.cluster import AgglomerativeClustering"
   ]
  },
  {
   "cell_type": "code",
   "execution_count": 110,
   "metadata": {},
   "outputs": [],
   "source": [
    "from scipy.cluster.hierarchy import dendrogram, linkage"
   ]
  },
  {
   "cell_type": "code",
   "execution_count": 106,
   "metadata": {},
   "outputs": [],
   "source": [
    "clustering = AgglomerativeClustering(affinity='precomputed', linkage='single').fit(1-similarity_matrix.toarray())"
   ]
  },
  {
   "cell_type": "code",
   "execution_count": 107,
   "metadata": {},
   "outputs": [
    {
     "data": {
      "text/plain": [
       "array([0, 0, 0, ..., 0, 0, 0], dtype=int64)"
      ]
     },
     "execution_count": 107,
     "metadata": {},
     "output_type": "execute_result"
    }
   ],
   "source": [
    "clustering.labels_"
   ]
  },
  {
   "cell_type": "code",
   "execution_count": 108,
   "metadata": {},
   "outputs": [],
   "source": [
    "counts = pd.DataFrame(clustering.labels_, columns=['Class']).Class.value_counts()"
   ]
  },
  {
   "cell_type": "code",
   "execution_count": 109,
   "metadata": {},
   "outputs": [
    {
     "data": {
      "text/plain": [
       "0    4999\n",
       "1       1\n",
       "Name: Class, dtype: int64"
      ]
     },
     "execution_count": 109,
     "metadata": {},
     "output_type": "execute_result"
    }
   ],
   "source": [
    "counts"
   ]
  },
  {
   "cell_type": "code",
   "execution_count": 51,
   "metadata": {},
   "outputs": [],
   "source": [
    "del result"
   ]
  },
  {
   "cell_type": "code",
   "execution_count": 65,
   "metadata": {},
   "outputs": [],
   "source": [
    "r = connected_components(similarity_matrix)\n",
    "counts = pd.DataFrame(r[1], columns=['Class']).Class.value_counts()"
   ]
  },
  {
   "cell_type": "code",
   "execution_count": 73,
   "metadata": {},
   "outputs": [
    {
     "data": {
      "text/plain": [
       "0"
      ]
     },
     "execution_count": 73,
     "metadata": {},
     "output_type": "execute_result"
    }
   ],
   "source": [
    "test = counts[counts > 1]"
   ]
  },
  {
   "cell_type": "code",
   "execution_count": 76,
   "metadata": {},
   "outputs": [],
   "source": [
    "indices = np.argwhere(r[1]==test.index[0]).T.flatten()"
   ]
  },
  {
   "cell_type": "code",
   "execution_count": 87,
   "metadata": {},
   "outputs": [],
   "source": [
    "similarity_matrix_selection = similarity_matrix[:, indices][indices, :]"
   ]
  },
  {
   "cell_type": "code",
   "execution_count": 19,
   "metadata": {},
   "outputs": [],
   "source": [
    "import hdbscan"
   ]
  },
  {
   "cell_type": "code",
   "execution_count": 145,
   "metadata": {},
   "outputs": [],
   "source": [
    "clusterer = hdbscan.HDBSCAN(metric='precomputed', \n",
    "                            min_samples=1, \n",
    "                            min_cluster_size=2,\n",
    "                            allow_single_cluster=True).fit(similarity_matrix_selection)"
   ]
  },
  {
   "cell_type": "code",
   "execution_count": 146,
   "metadata": {},
   "outputs": [
    {
     "data": {
      "text/plain": [
       "-1    2947\n",
       " 0    2044\n",
       "Name: Class, dtype: int64"
      ]
     },
     "execution_count": 146,
     "metadata": {},
     "output_type": "execute_result"
    }
   ],
   "source": [
    "clusters = pd.DataFrame(clusterer.labels_, columns=['Class']).Class.value_counts(); clusters"
   ]
  },
  {
   "cell_type": "code",
   "execution_count": 120,
   "metadata": {},
   "outputs": [],
   "source": [
    "tree = clusterer.condensed_tree_.to_pandas()"
   ]
  },
  {
   "cell_type": "code",
   "execution_count": 149,
   "metadata": {},
   "outputs": [
    {
     "data": {
      "text/plain": [
       "117    4787\n",
       "203       1\n",
       "93        1\n",
       "85        1\n",
       "81        1\n",
       "       ... \n",
       "122       1\n",
       "118       1\n",
       "114       1\n",
       "110       1\n",
       "0         1\n",
       "Name: Class, Length: 205, dtype: int64"
      ]
     },
     "execution_count": 149,
     "metadata": {},
     "output_type": "execute_result"
    }
   ],
   "source": [
    "clusters = pd.DataFrame(clusterer.single_linkage_tree_.get_clusters(0.1, min_cluster_size=1), columns=['Class']).Class.value_counts(); clusters"
   ]
  },
  {
   "cell_type": "code",
   "execution_count": 139,
   "metadata": {},
   "outputs": [
    {
     "data": {
      "text/plain": [
       "('Crime Unlimited', 'Special Investigator')"
      ]
     },
     "execution_count": 139,
     "metadata": {},
     "output_type": "execute_result"
    }
   ],
   "source": [
    "movie_titles[\"IMDB\"][:5000][2032], movie_titles[\"IMDB\"][:5000][2479]"
   ]
  },
  {
   "cell_type": "code",
   "execution_count": 150,
   "metadata": {},
   "outputs": [
    {
     "data": {
      "text/plain": [
       "<AxesSubplot:ylabel='$\\\\lambda$ value'>"
      ]
     },
     "execution_count": 150,
     "metadata": {},
     "output_type": "execute_result"
    },
    {
     "data": {
      "image/png": "[encoded data removed]",
      "text/plain": [
       "<Figure size 432x288 with 2 Axes>"
      ]
     },
     "metadata": {
      "needs_background": "light"
     },
     "output_type": "display_data"
    }
   ],
   "source": [
    "clusterer.condensed_tree_.plot()"
   ]
  },
  {
   "cell_type": "code",
   "execution_count": 17,
   "metadata": {},
   "outputs": [],
   "source": [
    "from rapidfuzz import fuzz\n",
    "\n",
    "models = {\n",
    "          \"TF-IDF-NGRAM\": TFIDF(n_gram_range=(3, 5))\n",
    "        }\n",
    "\n",
    "pm = PolyMatch(models)"
   ]
  },
  {
   "cell_type": "code",
   "execution_count": 18,
   "metadata": {},
   "outputs": [],
   "source": [
    "matches = pm.match(movie_titles[\"IMDB\"][:5000], movie_titles[\"Netflix\"])"
   ]
  },
  {
   "cell_type": "code",
   "execution_count": 19,
   "metadata": {},
   "outputs": [
    {
     "data": {
      "text/html": [
       "<div>\n",
       "<style scoped>\n",
       "    .dataframe tbody tr th:only-of-type {\n",
       "        vertical-align: middle;\n",
       "    }\n",
       "\n",
       "    .dataframe tbody tr th {\n",
       "        vertical-align: top;\n",
       "    }\n",
       "\n",
       "    .dataframe thead th {\n",
       "        text-align: right;\n",
       "    }\n",
       "</style>\n",
       "<table border=\"1\" class=\"dataframe\">\n",
       "  <thead>\n",
       "    <tr style=\"text-align: right;\">\n",
       "      <th></th>\n",
       "      <th>From</th>\n",
       "      <th>To</th>\n",
       "      <th>Similarity</th>\n",
       "    </tr>\n",
       "  </thead>\n",
       "  <tbody>\n",
       "    <tr>\n",
       "      <th>0</th>\n",
       "      <td>Miss Jerry</td>\n",
       "      <td>Tom and Jerry: The Magic Ring</td>\n",
       "      <td>0.586513</td>\n",
       "    </tr>\n",
       "    <tr>\n",
       "      <th>1</th>\n",
       "      <td>The Story of the Kelly Gang</td>\n",
       "      <td>Story of an Egg</td>\n",
       "      <td>0.443260</td>\n",
       "    </tr>\n",
       "    <tr>\n",
       "      <th>2</th>\n",
       "      <td>Den sorte drøm</td>\n",
       "      <td>A Sort of Family</td>\n",
       "      <td>0.314065</td>\n",
       "    </tr>\n",
       "    <tr>\n",
       "      <th>3</th>\n",
       "      <td>Cleopatra</td>\n",
       "      <td>Cleopatra Jones</td>\n",
       "      <td>0.900328</td>\n",
       "    </tr>\n",
       "    <tr>\n",
       "      <th>4</th>\n",
       "      <td>L'Inferno</td>\n",
       "      <td>Into the Inferno</td>\n",
       "      <td>0.811386</td>\n",
       "    </tr>\n",
       "    <tr>\n",
       "      <th>...</th>\n",
       "      <td>...</td>\n",
       "      <td>...</td>\n",
       "      <td>...</td>\n",
       "    </tr>\n",
       "    <tr>\n",
       "      <th>4995</th>\n",
       "      <td>Two O'Clock Courage</td>\n",
       "      <td>Brené Brown: The Call to Courage</td>\n",
       "      <td>0.502447</td>\n",
       "    </tr>\n",
       "    <tr>\n",
       "      <th>4996</th>\n",
       "      <td>The Unseen</td>\n",
       "      <td>Have You Seen the Listers?</td>\n",
       "      <td>0.233848</td>\n",
       "    </tr>\n",
       "    <tr>\n",
       "      <th>4997</th>\n",
       "      <td>Unter den Brücken</td>\n",
       "      <td>Hunter X Hunter (2011)</td>\n",
       "      <td>0.333121</td>\n",
       "    </tr>\n",
       "    <tr>\n",
       "      <th>4998</th>\n",
       "      <td>Utah</td>\n",
       "      <td>Tattah</td>\n",
       "      <td>0.191648</td>\n",
       "    </tr>\n",
       "    <tr>\n",
       "      <th>4999</th>\n",
       "      <td>The Valley of Decision</td>\n",
       "      <td>Executive Decision</td>\n",
       "      <td>0.528078</td>\n",
       "    </tr>\n",
       "  </tbody>\n",
       "</table>\n",
       "<p>5000 rows × 3 columns</p>\n",
       "</div>"
      ],
      "text/plain": [
       "                             From                                To  \\\n",
       "0                      Miss Jerry     Tom and Jerry: The Magic Ring   \n",
       "1     The Story of the Kelly Gang                   Story of an Egg   \n",
       "2                  Den sorte drøm                  A Sort of Family   \n",
       "3                       Cleopatra                   Cleopatra Jones   \n",
       "4                       L'Inferno                  Into the Inferno   \n",
       "...                           ...                               ...   \n",
       "4995          Two O'Clock Courage  Brené Brown: The Call to Courage   \n",
       "4996                   The Unseen        Have You Seen the Listers?   \n",
       "4997            Unter den Brücken            Hunter X Hunter (2011)   \n",
       "4998                         Utah                            Tattah   \n",
       "4999       The Valley of Decision                Executive Decision   \n",
       "\n",
       "      Similarity  \n",
       "0       0.586513  \n",
       "1       0.443260  \n",
       "2       0.314065  \n",
       "3       0.900328  \n",
       "4       0.811386  \n",
       "...          ...  \n",
       "4995    0.502447  \n",
       "4996    0.233848  \n",
       "4997    0.333121  \n",
       "4998    0.191648  \n",
       "4999    0.528078  \n",
       "\n",
       "[5000 rows x 3 columns]"
      ]
     },
     "execution_count": 19,
     "metadata": {},
     "output_type": "execute_result"
    }
   ],
   "source": [
    "matches[\"TF-IDF-NGRAM\"]"
   ]
  },
  {
   "cell_type": "code",
   "execution_count": null,
   "metadata": {},
   "outputs": [],
   "source": []
  },
  {
   "cell_type": "code",
   "execution_count": 3,
   "metadata": {},
   "outputs": [],
   "source": [
    "from rapidfuzz import fuzz\n",
    "\n",
    "models = {\n",
    "          \"EditDistance\": EditDistance(n_jobs=-1, score_cutoff=0.5, scorer=fuzz.ratio),\n",
    "          \"TF-IDF\": TFIDF(n_gram_range=(3, 3), use_knn=True),\n",
    "          \"TF-IDF-NGRAM\": TFIDF(n_gram_range=(3, 5))\n",
    "        }\n",
    "\n",
    "pm = PolyMatch(models)"
   ]
  },
  {
   "cell_type": "code",
   "execution_count": 8,
   "metadata": {},
   "outputs": [],
   "source": [
    "matches = pm.match(movie_titles[\"IMDB\"][:5000], movie_titles[\"Netflix\"])"
   ]
  },
  {
   "cell_type": "code",
   "execution_count": 5,
   "metadata": {},
   "outputs": [],
   "source": [
    "min_precision, recall, avg_precision = pm.precision_recall_curve()"
   ]
  },
  {
   "cell_type": "code",
   "execution_count": 6,
   "metadata": {},
   "outputs": [
    {
     "data": {
      "image/png": "[encoded data removed]",
      "text/plain": [
       "<Figure size 1440x288 with 2 Axes>"
      ]
     },
     "metadata": {
      "needs_background": "light"
     },
     "output_type": "display_data"
    }
   ],
   "source": [
    "pm.visualize_precision_recall()"
   ]
  },
  {
   "cell_type": "markdown",
   "metadata": {},
   "source": [
    "# Edit distance"
   ]
  },
  {
   "cell_type": "code",
   "execution_count": 3,
   "metadata": {},
   "outputs": [
    {
     "name": "stderr",
     "output_type": "stream",
     "text": [
      "100%|██████████████████████████████████████████████████████████████████████████████| 1000/1000 [00:22<00:00, 43.91it/s]\n"
     ]
    }
   ],
   "source": [
    "ed = EditDistance(n_jobs=-1, score_cutoff=0.5)\n",
    "result = ed.match(movie_titles[\"Netflix\"][:1000], movie_titles[\"IMDB\"][:1000])"
   ]
  },
  {
   "cell_type": "code",
   "execution_count": 4,
   "metadata": {},
   "outputs": [
    {
     "data": {
      "text/html": [
       "<div>\n",
       "<style scoped>\n",
       "    .dataframe tbody tr th:only-of-type {\n",
       "        vertical-align: middle;\n",
       "    }\n",
       "\n",
       "    .dataframe tbody tr th {\n",
       "        vertical-align: top;\n",
       "    }\n",
       "\n",
       "    .dataframe thead th {\n",
       "        text-align: right;\n",
       "    }\n",
       "</style>\n",
       "<table border=\"1\" class=\"dataframe\">\n",
       "  <thead>\n",
       "    <tr style=\"text-align: right;\">\n",
       "      <th></th>\n",
       "      <th>From</th>\n",
       "      <th>To</th>\n",
       "      <th>Similarity</th>\n",
       "    </tr>\n",
       "  </thead>\n",
       "  <tbody>\n",
       "    <tr>\n",
       "      <th>0</th>\n",
       "      <td>Norm of the North: King Sized Adventure</td>\n",
       "      <td>The Bargain</td>\n",
       "      <td>0.855</td>\n",
       "    </tr>\n",
       "    <tr>\n",
       "      <th>1</th>\n",
       "      <td>Jandino: Whatever it Takes</td>\n",
       "      <td>It's a Great Life</td>\n",
       "      <td>0.855</td>\n",
       "    </tr>\n",
       "    <tr>\n",
       "      <th>2</th>\n",
       "      <td>Transformers Prime</td>\n",
       "      <td>The Informer</td>\n",
       "      <td>0.600</td>\n",
       "    </tr>\n",
       "    <tr>\n",
       "      <th>3</th>\n",
       "      <td>Transformers: Robots in Disguise</td>\n",
       "      <td>Traffic in Souls</td>\n",
       "      <td>0.855</td>\n",
       "    </tr>\n",
       "    <tr>\n",
       "      <th>4</th>\n",
       "      <td>#realityhigh</td>\n",
       "      <td>It</td>\n",
       "      <td>0.900</td>\n",
       "    </tr>\n",
       "  </tbody>\n",
       "</table>\n",
       "</div>"
      ],
      "text/plain": [
       "                                      From                 To  Similarity\n",
       "0  Norm of the North: King Sized Adventure        The Bargain       0.855\n",
       "1               Jandino: Whatever it Takes  It's a Great Life       0.855\n",
       "2                       Transformers Prime       The Informer       0.600\n",
       "3         Transformers: Robots in Disguise   Traffic in Souls       0.855\n",
       "4                             #realityhigh                 It       0.900"
      ]
     },
     "execution_count": 4,
     "metadata": {},
     "output_type": "execute_result"
    }
   ],
   "source": [
    "result.head()"
   ]
  },
  {
   "cell_type": "markdown",
   "metadata": {},
   "source": [
    "# TF-IDF"
   ]
  },
  {
   "cell_type": "code",
   "execution_count": 20,
   "metadata": {},
   "outputs": [],
   "source": [
    "tfidf = TFIDF(n_gram_range=(3, 3))\n",
    "matches = tfidf.match(movie_titles[\"Netflix\"], movie_titles[\"IMDB\"][:1000])"
   ]
  }
 ],
 "metadata": {
  "kernelspec": {
   "display_name": "Python 3",
   "language": "python",
   "name": "python3"
  },
  "language_info": {
   "codemirror_mode": {
    "name": "ipython",
    "version": 3
   },
   "file_extension": ".py",
   "mimetype": "text/x-python",
   "name": "python",
   "nbconvert_exporter": "python",
   "pygments_lexer": "ipython3",
   "version": "3.7.3"
  }
 },
 "nbformat": 4,
 "nbformat_minor": 4
}
