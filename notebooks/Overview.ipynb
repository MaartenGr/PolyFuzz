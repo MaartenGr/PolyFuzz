{
 "cells": [
  {
   "cell_type": "markdown",
   "metadata": {},
   "source": [
    "# Guide"
   ]
  },
  {
   "cell_type": "markdown",
   "metadata": {},
   "source": [
    "## Quick-start\n",
    "Let's import our package and define two small lists that we would like to compare in similarity"
   ]
  },
  {
   "cell_type": "code",
   "execution_count": 1,
   "metadata": {},
   "outputs": [],
   "source": [
    "from polyfuzz import PolyFuzz\n",
    "\n",
    "from_list = [\"apple\", \"apples\", \"appl\", \"recal\", \"house\", \"similarity\"]\n",
    "to_list = [\"apple\", \"apples\", \"mouse\"]"
   ]
  },
  {
   "cell_type": "markdown",
   "metadata": {},
   "source": [
    "Then, we instantiate our PolyFuzz model and choose `TF-IDF` as our similarity measure. We matche the two lists and \n",
    "check the results.\n",
    "\n",
    "**NOTE**: We can also use `EditDistance` and `Embeddings` as our matchers. "
   ]
  },
  {
   "cell_type": "code",
   "execution_count": 2,
   "metadata": {},
   "outputs": [
    {
     "data": {
      "text/html": [
       "<div>\n",
       "<style scoped>\n",
       "    .dataframe tbody tr th:only-of-type {\n",
       "        vertical-align: middle;\n",
       "    }\n",
       "\n",
       "    .dataframe tbody tr th {\n",
       "        vertical-align: top;\n",
       "    }\n",
       "\n",
       "    .dataframe thead th {\n",
       "        text-align: right;\n",
       "    }\n",
       "</style>\n",
       "<table border=\"1\" class=\"dataframe\">\n",
       "  <thead>\n",
       "    <tr style=\"text-align: right;\">\n",
       "      <th></th>\n",
       "      <th>From</th>\n",
       "      <th>To</th>\n",
       "      <th>Similarity</th>\n",
       "    </tr>\n",
       "  </thead>\n",
       "  <tbody>\n",
       "    <tr>\n",
       "      <th>0</th>\n",
       "      <td>apple</td>\n",
       "      <td>apple</td>\n",
       "      <td>1.000000</td>\n",
       "    </tr>\n",
       "    <tr>\n",
       "      <th>1</th>\n",
       "      <td>apples</td>\n",
       "      <td>apples</td>\n",
       "      <td>1.000000</td>\n",
       "    </tr>\n",
       "    <tr>\n",
       "      <th>2</th>\n",
       "      <td>appl</td>\n",
       "      <td>apple</td>\n",
       "      <td>0.783751</td>\n",
       "    </tr>\n",
       "    <tr>\n",
       "      <th>3</th>\n",
       "      <td>recal</td>\n",
       "      <td>None</td>\n",
       "      <td>0.000000</td>\n",
       "    </tr>\n",
       "    <tr>\n",
       "      <th>4</th>\n",
       "      <td>house</td>\n",
       "      <td>mouse</td>\n",
       "      <td>0.587927</td>\n",
       "    </tr>\n",
       "    <tr>\n",
       "      <th>5</th>\n",
       "      <td>similarity</td>\n",
       "      <td>None</td>\n",
       "      <td>0.000000</td>\n",
       "    </tr>\n",
       "  </tbody>\n",
       "</table>\n",
       "</div>"
      ],
      "text/plain": [
       "         From      To  Similarity\n",
       "0       apple   apple    1.000000\n",
       "1      apples  apples    1.000000\n",
       "2        appl   apple    0.783751\n",
       "3       recal    None    0.000000\n",
       "4       house   mouse    0.587927\n",
       "5  similarity    None    0.000000"
      ]
     },
     "execution_count": 2,
     "metadata": {},
     "output_type": "execute_result"
    }
   ],
   "source": [
    "model = PolyFuzz(\"TF-IDF\").match(from_list, to_list)\n",
    "model.get_matches()"
   ]
  },
  {
   "cell_type": "markdown",
   "metadata": {},
   "source": [
    "As expected, we can see high similarity between the `apple` words. Moreover, we could not find a single match for `similarity` which is why it is mapped to `None`. "
   ]
  },
  {
   "cell_type": "markdown",
   "metadata": {},
   "source": [
    "#### Precision Recall Curve\n",
    "Next, we would like to see how well our model is doing on our data. Although this method is unsupervised, we can use the similarity score as a proxy for the accuracy of our model (assuming we trust that similarity score).\n",
    "\n",
    "A minimum similarity score might be used to identify when a match could be considered to be correct. For example, we can assume that if a similarity score pass 0.95 we are quite confident that the matches are correct. This minimum similarity score can be defined as **`Precision`** since it shows you how precise we believe the matches are at a minimum.\n",
    "\n",
    "**`Recall`** can then be defined as as the percentage of matches found at a certain minimum similarity score. A high recall means that for a certain minimum precision score, we find many matches."
   ]
  },
  {
   "cell_type": "code",
   "execution_count": 4,
   "metadata": {},
   "outputs": [
    {
     "data": {
      "image/png": "[encoded data removed]",
      "text/plain": [
       "<Figure size 1440x360 with 2 Axes>"
      ]
     },
     "metadata": {
      "needs_background": "light"
     },
     "output_type": "display_data"
    }
   ],
   "source": [
    "model.visualize_precision_recall(\"tfidf.png\")"
   ]
  },
  {
   "cell_type": "markdown",
   "metadata": {},
   "source": [
    "#### Group Matches\n",
    "We can group the matches `To` as there might be significant overlap in strings in our `from_list`. \n",
    "To do this, we calculate the similarity within strings in `from_list` and use single linkage to then group the strings with a high similarity. "
   ]
  },
  {
   "cell_type": "code",
   "execution_count": 4,
   "metadata": {},
   "outputs": [
    {
     "data": {
      "text/html": [
       "<div>\n",
       "<style scoped>\n",
       "    .dataframe tbody tr th:only-of-type {\n",
       "        vertical-align: middle;\n",
       "    }\n",
       "\n",
       "    .dataframe tbody tr th {\n",
       "        vertical-align: top;\n",
       "    }\n",
       "\n",
       "    .dataframe thead th {\n",
       "        text-align: right;\n",
       "    }\n",
       "</style>\n",
       "<table border=\"1\" class=\"dataframe\">\n",
       "  <thead>\n",
       "    <tr style=\"text-align: right;\">\n",
       "      <th></th>\n",
       "      <th>From</th>\n",
       "      <th>To</th>\n",
       "      <th>Similarity</th>\n",
       "      <th>Group</th>\n",
       "    </tr>\n",
       "  </thead>\n",
       "  <tbody>\n",
       "    <tr>\n",
       "      <th>0</th>\n",
       "      <td>apple</td>\n",
       "      <td>apple</td>\n",
       "      <td>1.000000</td>\n",
       "      <td>apples</td>\n",
       "    </tr>\n",
       "    <tr>\n",
       "      <th>1</th>\n",
       "      <td>apples</td>\n",
       "      <td>apples</td>\n",
       "      <td>1.000000</td>\n",
       "      <td>apples</td>\n",
       "    </tr>\n",
       "    <tr>\n",
       "      <th>2</th>\n",
       "      <td>appl</td>\n",
       "      <td>apple</td>\n",
       "      <td>0.783751</td>\n",
       "      <td>apples</td>\n",
       "    </tr>\n",
       "    <tr>\n",
       "      <th>3</th>\n",
       "      <td>recal</td>\n",
       "      <td>None</td>\n",
       "      <td>0.000000</td>\n",
       "      <td>None</td>\n",
       "    </tr>\n",
       "    <tr>\n",
       "      <th>4</th>\n",
       "      <td>house</td>\n",
       "      <td>mouse</td>\n",
       "      <td>0.587927</td>\n",
       "      <td>mouse</td>\n",
       "    </tr>\n",
       "    <tr>\n",
       "      <th>5</th>\n",
       "      <td>similarity</td>\n",
       "      <td>None</td>\n",
       "      <td>0.000000</td>\n",
       "      <td>None</td>\n",
       "    </tr>\n",
       "  </tbody>\n",
       "</table>\n",
       "</div>"
      ],
      "text/plain": [
       "         From      To  Similarity   Group\n",
       "0       apple   apple    1.000000  apples\n",
       "1      apples  apples    1.000000  apples\n",
       "2        appl   apple    0.783751  apples\n",
       "3       recal    None    0.000000    None\n",
       "4       house   mouse    0.587927   mouse\n",
       "5  similarity    None    0.000000    None"
      ]
     },
     "execution_count": 4,
     "metadata": {},
     "output_type": "execute_result"
    }
   ],
   "source": [
    "model.group(link_min_similarity=0.75)\n",
    "model.get_matches()"
   ]
  },
  {
   "cell_type": "markdown",
   "metadata": {},
   "source": [
    "As can be seen above, we grouped `apple` and `apples` together to `apple` such that when a string is mapped to `apple` it will fall in the cluster of [`apples`, `apple`] and will be mapped to the first instance in the cluster which is `apples`. \n",
    "\n",
    "For example, `appl` is mapped to `apple` and since `apple` falls into the cluster [`apples`, `apple`], `appl` will be mapped to `apples`. "
   ]
  },
  {
   "cell_type": "markdown",
   "metadata": {},
   "source": [
    "## Multiple Models"
   ]
  },
  {
   "cell_type": "markdown",
   "metadata": {},
   "source": [
    "You might be interested in running multiple models with different matchers and different parameters in order to compare the best results.   \n",
    "Fortunately, **`PolyFuzz`** allows you to exactly do this!\n",
    "\n",
    "Below, you will find all models currently implemented in PolyFuzz and are compared against one another. "
   ]
  },
  {
   "cell_type": "code",
   "execution_count": 5,
   "metadata": {},
   "outputs": [],
   "source": [
    "from polyfuzz.models import EditDistance, TFIDF, Embeddings, RapidFuzz\n",
    "from polyfuzz import PolyFuzz\n",
    "\n",
    "from jellyfish import jaro_winkler_similarity\n",
    "from flair.embeddings import TransformerWordEmbeddings, WordEmbeddings\n",
    "\n",
    "from_list = [\"apple\", \"apples\", \"appl\", \"recal\", \"house\", \"similarity\"]\n",
    "to_list = [\"apple\", \"apples\", \"mouse\"]\n",
    "\n",
    "# BERT\n",
    "bert = TransformerWordEmbeddings('bert-base-multilingual-cased')  # https://huggingface.co/transformers/pretrained_models.html\n",
    "bert_matcher = Embeddings(bert, matcher_id=\"BERT\", min_similarity=0)\n",
    "\n",
    "# FastText\n",
    "fasttext = WordEmbeddings('en-crawl')\n",
    "fasttext_matcher = Embeddings(fasttext, min_similarity=0)\n",
    "\n",
    "# TF-IDF\n",
    "tfidf_matcher = TFIDF(n_gram_range=(3, 3), min_similarity=0, matcher_id=\"TF-IDF\")\n",
    "tfidf_large_matcher = TFIDF(n_gram_range=(3, 6), min_similarity=0)\n",
    "\n",
    "# Edit Distance models with custom distance function\n",
    "base_edit_matcher = EditDistance(n_jobs=1)\n",
    "jellyfish_matcher = EditDistance(n_jobs=1, scorer=jaro_winkler_similarity)\n",
    "\n",
    "# Edit distance with RapidFuzz --> slightly faster implementation than Edit Distance\n",
    "rapidfuzz_matcher = RapidFuzz(n_jobs=1)\n",
    "\n",
    "matchers = [bert_matcher, fasttext_matcher, tfidf_matcher, tfidf_large_matcher,\n",
    "            base_edit_matcher, jellyfish_matcher, rapidfuzz_matcher]"
   ]
  },
  {
   "cell_type": "code",
   "execution_count": 6,
   "metadata": {},
   "outputs": [],
   "source": [
    "model = PolyFuzz(matchers).match(from_list, to_list)"
   ]
  },
  {
   "cell_type": "code",
   "execution_count": 7,
   "metadata": {},
   "outputs": [
    {
     "data": {
      "image/png": "[encoded data removed]",
      "text/plain": [
       "<Figure size 1440x360 with 2 Axes>"
      ]
     },
     "metadata": {
      "needs_background": "light"
     },
     "output_type": "display_data"
    }
   ],
   "source": [
    "model.visualize_precision_recall(\"multiple_models.png\")"
   ]
  },
  {
   "cell_type": "markdown",
   "metadata": {},
   "source": [
    "#### Custom Grouper"
   ]
  },
  {
   "cell_type": "markdown",
   "metadata": {},
   "source": [
    "We can even use one of the `polyfuzz.models` to be used as the grouper in case you would like to use something else than the standard `TF-IDF` matcher:"
   ]
  },
  {
   "cell_type": "code",
   "execution_count": 8,
   "metadata": {},
   "outputs": [
    {
     "data": {
      "text/html": [
       "<div>\n",
       "<style scoped>\n",
       "    .dataframe tbody tr th:only-of-type {\n",
       "        vertical-align: middle;\n",
       "    }\n",
       "\n",
       "    .dataframe tbody tr th {\n",
       "        vertical-align: top;\n",
       "    }\n",
       "\n",
       "    .dataframe thead th {\n",
       "        text-align: right;\n",
       "    }\n",
       "</style>\n",
       "<table border=\"1\" class=\"dataframe\">\n",
       "  <thead>\n",
       "    <tr style=\"text-align: right;\">\n",
       "      <th></th>\n",
       "      <th>From</th>\n",
       "      <th>To</th>\n",
       "      <th>Similarity</th>\n",
       "      <th>Group</th>\n",
       "    </tr>\n",
       "  </thead>\n",
       "  <tbody>\n",
       "    <tr>\n",
       "      <th>0</th>\n",
       "      <td>apple</td>\n",
       "      <td>apple</td>\n",
       "      <td>1.000000</td>\n",
       "      <td>apples</td>\n",
       "    </tr>\n",
       "    <tr>\n",
       "      <th>1</th>\n",
       "      <td>apples</td>\n",
       "      <td>apples</td>\n",
       "      <td>1.000000</td>\n",
       "      <td>apples</td>\n",
       "    </tr>\n",
       "    <tr>\n",
       "      <th>2</th>\n",
       "      <td>appl</td>\n",
       "      <td>apple</td>\n",
       "      <td>0.367888</td>\n",
       "      <td>apples</td>\n",
       "    </tr>\n",
       "    <tr>\n",
       "      <th>3</th>\n",
       "      <td>recal</td>\n",
       "      <td>apple</td>\n",
       "      <td>0.119738</td>\n",
       "      <td>apples</td>\n",
       "    </tr>\n",
       "    <tr>\n",
       "      <th>4</th>\n",
       "      <td>house</td>\n",
       "      <td>mouse</td>\n",
       "      <td>0.195526</td>\n",
       "      <td>mouse</td>\n",
       "    </tr>\n",
       "    <tr>\n",
       "      <th>5</th>\n",
       "      <td>similarity</td>\n",
       "      <td>mouse</td>\n",
       "      <td>0.091616</td>\n",
       "      <td>mouse</td>\n",
       "    </tr>\n",
       "  </tbody>\n",
       "</table>\n",
       "</div>"
      ],
      "text/plain": [
       "         From      To  Similarity   Group\n",
       "0       apple   apple    1.000000  apples\n",
       "1      apples  apples    1.000000  apples\n",
       "2        appl   apple    0.367888  apples\n",
       "3       recal   apple    0.119738  apples\n",
       "4       house   mouse    0.195526   mouse\n",
       "5  similarity   mouse    0.091616   mouse"
      ]
     },
     "execution_count": 8,
     "metadata": {},
     "output_type": "execute_result"
    }
   ],
   "source": [
    "base_edit_grouper = EditDistance(n_jobs=1)\n",
    "model.group(base_edit_grouper)\n",
    "model.get_matches(\"Model 1\")"
   ]
  },
  {
   "cell_type": "code",
   "execution_count": 9,
   "metadata": {},
   "outputs": [
    {
     "data": {
      "text/plain": [
       "{0: ['apples', 'apple']}"
      ]
     },
     "execution_count": 9,
     "metadata": {},
     "output_type": "execute_result"
    }
   ],
   "source": [
    "model.get_clusters(\"Model 1\")"
   ]
  },
  {
   "cell_type": "markdown",
   "metadata": {},
   "source": [
    "## Custom Models"
   ]
  },
  {
   "cell_type": "markdown",
   "metadata": {},
   "source": [
    "Although the options above are a great solution for comparing different models, what if you have developed your own? What if you want a different similarity/distance measure that is not defined in PolyFuzz? That is where custom models come in. If you follow the structure of PolyFuzz's `BaseMatcher` you can quickly implement any model you would like. \n",
    "\n",
    "Below, we are implementing the `ratio` similarity measure from `RapidFuzz`. "
   ]
  },
  {
   "cell_type": "code",
   "execution_count": 10,
   "metadata": {},
   "outputs": [],
   "source": [
    "import numpy as np\n",
    "import pandas as pd\n",
    "from rapidfuzz import fuzz\n",
    "from polyfuzz.models import EditDistance, TFIDF, Embeddings, BaseMatcher\n",
    "\n",
    "\n",
    "class MyModel(BaseMatcher):\n",
    "    def match(self, from_list, to_list):\n",
    "        # Calculate distances\n",
    "        matches = [[fuzz.ratio(from_string, to_string) / 100 for to_string in to_list] for from_string in from_list]\n",
    "        \n",
    "        # Get best matches\n",
    "        mappings = [to_list[index] for index in np.argmax(matches, axis=1)]\n",
    "        scores = np.max(matches, axis=1)\n",
    "        \n",
    "        # Prepare dataframe\n",
    "        matches = pd.DataFrame({'From': from_list,'To': mappings, 'Similarity': scores})\n",
    "        return matches"
   ]
  },
  {
   "cell_type": "markdown",
   "metadata": {},
   "source": [
    "It is important that the `match` function takes in two lists of strings and throws out a pandas dataframe with three columns:\n",
    "* From\n",
    "* To\n",
    "* Similarity\n",
    "\n",
    "Then, we can simply create an instance of `MyModel` and pass it through `PolyFuzz`:"
   ]
  },
  {
   "cell_type": "code",
   "execution_count": 11,
   "metadata": {},
   "outputs": [],
   "source": [
    "from_list = [\"apple\", \"apples\", \"appl\", \"recal\", \"house\", \"similarity\"]\n",
    "to_list = [\"apple\", \"apples\", \"mouse\"]\n",
    "\n",
    "custom_matcher = MyModel()\n",
    "\n",
    "model = PolyFuzz(custom_matcher).match(from_list, to_list)"
   ]
  },
  {
   "cell_type": "code",
   "execution_count": 12,
   "metadata": {},
   "outputs": [
    {
     "data": {
      "image/png": "[encoded data removed]",
      "text/plain": [
       "<Figure size 1440x360 with 2 Axes>"
      ]
     },
     "metadata": {
      "needs_background": "light"
     },
     "output_type": "display_data"
    }
   ],
   "source": [
    "model.visualize_precision_recall()"
   ]
  },
  {
   "cell_type": "code",
   "execution_count": 13,
   "metadata": {},
   "outputs": [
    {
     "data": {
      "text/html": [
       "<div>\n",
       "<style scoped>\n",
       "    .dataframe tbody tr th:only-of-type {\n",
       "        vertical-align: middle;\n",
       "    }\n",
       "\n",
       "    .dataframe tbody tr th {\n",
       "        vertical-align: top;\n",
       "    }\n",
       "\n",
       "    .dataframe thead th {\n",
       "        text-align: right;\n",
       "    }\n",
       "</style>\n",
       "<table border=\"1\" class=\"dataframe\">\n",
       "  <thead>\n",
       "    <tr style=\"text-align: right;\">\n",
       "      <th></th>\n",
       "      <th>From</th>\n",
       "      <th>To</th>\n",
       "      <th>Similarity</th>\n",
       "    </tr>\n",
       "  </thead>\n",
       "  <tbody>\n",
       "    <tr>\n",
       "      <th>0</th>\n",
       "      <td>apple</td>\n",
       "      <td>apple</td>\n",
       "      <td>1.000000</td>\n",
       "    </tr>\n",
       "    <tr>\n",
       "      <th>1</th>\n",
       "      <td>apples</td>\n",
       "      <td>apples</td>\n",
       "      <td>1.000000</td>\n",
       "    </tr>\n",
       "    <tr>\n",
       "      <th>2</th>\n",
       "      <td>appl</td>\n",
       "      <td>apple</td>\n",
       "      <td>0.888889</td>\n",
       "    </tr>\n",
       "    <tr>\n",
       "      <th>3</th>\n",
       "      <td>recal</td>\n",
       "      <td>apple</td>\n",
       "      <td>0.400000</td>\n",
       "    </tr>\n",
       "    <tr>\n",
       "      <th>4</th>\n",
       "      <td>house</td>\n",
       "      <td>mouse</td>\n",
       "      <td>0.800000</td>\n",
       "    </tr>\n",
       "    <tr>\n",
       "      <th>5</th>\n",
       "      <td>similarity</td>\n",
       "      <td>apple</td>\n",
       "      <td>0.133333</td>\n",
       "    </tr>\n",
       "  </tbody>\n",
       "</table>\n",
       "</div>"
      ],
      "text/plain": [
       "         From      To  Similarity\n",
       "0       apple   apple    1.000000\n",
       "1      apples  apples    1.000000\n",
       "2        appl   apple    0.888889\n",
       "3       recal   apple    0.400000\n",
       "4       house   mouse    0.800000\n",
       "5  similarity   apple    0.133333"
      ]
     },
     "execution_count": 13,
     "metadata": {},
     "output_type": "execute_result"
    }
   ],
   "source": [
    "model.get_matches()"
   ]
  },
  {
   "cell_type": "code",
   "execution_count": 19,
   "metadata": {},
   "outputs": [],
   "source": [
    "from polyfuzz.models import EditDistance, TFIDF, Embeddings\n",
    "from flair.embeddings import TransformerWordEmbeddings\n",
    "\n",
    "bert = TransformerWordEmbeddings('bert-base-multilingual-cased')\n",
    "bert_matcher = Embeddings(bert, min_similarity=0, matcher_id=\"BERT\")\n",
    "tfidf_matcher = TFIDF(min_similarity=0)\n",
    "edit_matcher = EditDistance()\n",
    "\n",
    "matchers = [bert_matcher, tfidf_matcher, edit_matcher]\n",
    "models = PolyFuzz(matchers).match(from_list, to_list)"
   ]
  },
  {
   "cell_type": "code",
   "execution_count": 20,
   "metadata": {},
   "outputs": [
    {
     "data": {
      "text/html": [
       "<div>\n",
       "<style scoped>\n",
       "    .dataframe tbody tr th:only-of-type {\n",
       "        vertical-align: middle;\n",
       "    }\n",
       "\n",
       "    .dataframe tbody tr th {\n",
       "        vertical-align: top;\n",
       "    }\n",
       "\n",
       "    .dataframe thead th {\n",
       "        text-align: right;\n",
       "    }\n",
       "</style>\n",
       "<table border=\"1\" class=\"dataframe\">\n",
       "  <thead>\n",
       "    <tr style=\"text-align: right;\">\n",
       "      <th></th>\n",
       "      <th>From</th>\n",
       "      <th>To</th>\n",
       "      <th>Similarity</th>\n",
       "    </tr>\n",
       "  </thead>\n",
       "  <tbody>\n",
       "    <tr>\n",
       "      <th>0</th>\n",
       "      <td>apple</td>\n",
       "      <td>apple</td>\n",
       "      <td>1.000000</td>\n",
       "    </tr>\n",
       "    <tr>\n",
       "      <th>1</th>\n",
       "      <td>apples</td>\n",
       "      <td>apples</td>\n",
       "      <td>1.000000</td>\n",
       "    </tr>\n",
       "    <tr>\n",
       "      <th>2</th>\n",
       "      <td>appl</td>\n",
       "      <td>apple</td>\n",
       "      <td>0.928045</td>\n",
       "    </tr>\n",
       "    <tr>\n",
       "      <th>3</th>\n",
       "      <td>recal</td>\n",
       "      <td>apples</td>\n",
       "      <td>0.825268</td>\n",
       "    </tr>\n",
       "    <tr>\n",
       "      <th>4</th>\n",
       "      <td>house</td>\n",
       "      <td>mouse</td>\n",
       "      <td>0.887524</td>\n",
       "    </tr>\n",
       "    <tr>\n",
       "      <th>5</th>\n",
       "      <td>similarity</td>\n",
       "      <td>mouse</td>\n",
       "      <td>0.791548</td>\n",
       "    </tr>\n",
       "  </tbody>\n",
       "</table>\n",
       "</div>"
      ],
      "text/plain": [
       "         From      To  Similarity\n",
       "0       apple   apple    1.000000\n",
       "1      apples  apples    1.000000\n",
       "2        appl   apple    0.928045\n",
       "3       recal  apples    0.825268\n",
       "4       house   mouse    0.887524\n",
       "5  similarity   mouse    0.791548"
      ]
     },
     "execution_count": 20,
     "metadata": {},
     "output_type": "execute_result"
    }
   ],
   "source": [
    "models.get_matches(\"BERT\")"
   ]
  },
  {
   "cell_type": "code",
   "execution_count": null,
   "metadata": {},
   "outputs": [],
   "source": [
    "models.visualize_precision_recall(\"multiple_models.png\")"
   ]
  },
  {
   "cell_type": "code",
   "execution_count": null,
   "metadata": {},
   "outputs": [],
   "source": []
  }
 ],
 "metadata": {
  "kernelspec": {
   "display_name": "Python 3",
   "language": "python",
   "name": "python3"
  },
  "language_info": {
   "codemirror_mode": {
    "name": "ipython",
    "version": 3
   },
   "file_extension": ".py",
   "mimetype": "text/x-python",
   "name": "python",
   "nbconvert_exporter": "python",
   "pygments_lexer": "ipython3",
   "version": "3.7.3"
  }
 },
 "nbformat": 4,
 "nbformat_minor": 4
}
